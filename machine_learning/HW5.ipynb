{
 "cells": [
  {
   "cell_type": "markdown",
   "metadata": {},
   "source": [
    "# Лабораторная работа №5"
   ]
  },
  {
   "cell_type": "markdown",
   "metadata": {},
   "source": [
    "## Начальная обработка данных"
   ]
  },
  {
   "cell_type": "markdown",
   "metadata": {},
   "source": [
    "Импортируем нужные библиотеки и загружаем X, y. "
   ]
  },
  {
   "cell_type": "code",
   "execution_count": 2,
   "metadata": {
    "collapsed": true,
    "deletable": true,
    "editable": true
   },
   "outputs": [],
   "source": [
    "import numpy as np\n",
    "import matplotlib.pyplot as plt\n",
    "%matplotlib inline\n",
    "from sklearn.datasets import load_diabetes\n",
    "data = load_diabetes()\n",
    "X = data.data\n",
    "y = data.target\n",
    "N, d = X.shape"
   ]
  },
  {
   "cell_type": "markdown",
   "metadata": {
    "collapsed": false,
    "deletable": true,
    "editable": true
   },
   "source": [
    "Рассчитываем коэффициенты корреляции и строим график. "
   ]
  },
  {
   "cell_type": "code",
   "execution_count": 4,
   "metadata": {
    "collapsed": false
   },
   "outputs": [
    {
     "data": {
      "image/png": "[encoded data removed]",
      "text/plain": [
       "<matplotlib.figure.Figure at 0xeee4d0>"
      ]
     },
     "metadata": {},
     "output_type": "display_data"
    }
   ],
   "source": [
    "S = np.corrcoef(np.hstack([X, np.reshape(y, (N, 1))]), rowvar = 0)\n",
    "feature_names = []\n",
    "for i in range(1, 12):\n",
    "    feature_names.append(str(i))\n",
    "feature_names = np.array(feature_names)\n",
    "    \n",
    "plt.figure(figsize = (8, 8))\n",
    "plt.imshow(np.abs(S), interpolation = 'nearest', cmap = 'binary')\n",
    "plt.colorbar()\n",
    "plt.xticks(np.arange(d + 1), feature_names, rotation=70)\n",
    "plt.yticks(np.arange(d + 1), feature_names)\n",
    "pass"
   ]
  },
  {
   "cell_type": "markdown",
   "metadata": {},
   "source": [
    "Разбиваем данные на тренировочную и тестовую выборки."
   ]
  },
  {
   "cell_type": "code",
   "execution_count": 5,
   "metadata": {
    "collapsed": false,
    "deletable": true,
    "editable": true
   },
   "outputs": [
    {
     "name": "stdout",
     "output_type": "stream",
     "text": [
      "331 111\n"
     ]
    },
    {
     "name": "stderr",
     "output_type": "stream",
     "text": [
      "c:\\program files (x86)\\python 3.5.2\\lib\\site-packages\\sklearn\\cross_validation.py:44: DeprecationWarning: This module was deprecated in version 0.18 in favor of the model_selection module into which all the refactored classes and functions are moved. Also note that the interface of the new CV iterators are different from that of this module. This module will be removed in 0.20.\n",
      "  \"This module will be removed in 0.20.\", DeprecationWarning)\n"
     ]
    }
   ],
   "source": [
    "from sklearn.cross_validation import train_test_split\n",
    "X_train, X_test, y_train, y_test = train_test_split(X, y, test_size = 0.25, random_state = 4)\n",
    "N_train, = y_train.shape\n",
    "N_test,  = y_test.shape\n",
    "print (N_train, N_test)"
   ]
  },
  {
   "cell_type": "markdown",
   "metadata": {},
   "source": [
    "Создаем модель линейной регрессии."
   ]
  },
  {
   "cell_type": "code",
   "execution_count": 22,
   "metadata": {
    "collapsed": false,
    "deletable": true,
    "editable": true
   },
   "outputs": [
    {
     "name": "stdout",
     "output_type": "stream",
     "text": [
      "2869.757946\n",
      "2923.90647416\n"
     ]
    }
   ],
   "source": [
    "from sklearn.linear_model import LinearRegression\n",
    "lr_model = LinearRegression()\n",
    "lr_model.fit(X_train, y_train)\n",
    "\n",
    "y_train_pred = lr_model.predict(X_train)\n",
    "print(np.mean((y_train_pred - y_train)**2))\n",
    "\n",
    "y_test_pred = lr_model.predict(X_test)\n",
    "print(np.mean((y_test_pred - y_test)**2))"
   ]
  },
  {
   "cell_type": "markdown",
   "metadata": {},
   "source": [
    "Коэффициенты регресси на обучающей и тестовой выборках."
   ]
  },
  {
   "cell_type": "code",
   "execution_count": 24,
   "metadata": {
    "collapsed": false
   },
   "outputs": [
    {
     "name": "stdout",
     "output_type": "stream",
     "text": [
      "0.527772418653\n",
      "0.467076121609\n"
     ]
    }
   ],
   "source": [
    "print(lr_model.score(X_train, y_train))\n",
    "print(lr_model.score(X_test, y_test))"
   ]
  },
  {
   "cell_type": "markdown",
   "metadata": {},
   "source": [
    "## Отбор и определение значимости признаков."
   ]
  },
  {
   "cell_type": "code",
   "execution_count": 25,
   "metadata": {
    "collapsed": false
   },
   "outputs": [
    {
     "data": {
      "text/plain": [
       "array([ -0.47623169, -11.40703082,  24.72625713,  15.42967916,\n",
       "       -37.68035801,  22.67648701,   4.80620008,   8.422084  ,\n",
       "        35.73471316,   3.21661161])"
      ]
     },
     "execution_count": 25,
     "metadata": {},
     "output_type": "execute_result"
    }
   ],
   "source": [
    "X /= X.std(axis = 0) # Сделаем стандартизацию!\n",
    "lr_model.fit(X, y)\n",
    "lr_model.coef_"
   ]
  },
  {
   "cell_type": "markdown",
   "metadata": {},
   "source": [
    "Построим самые значимые признаки."
   ]
  },
  {
   "cell_type": "code",
   "execution_count": 26,
   "metadata": {
    "collapsed": false
   },
   "outputs": [
    {
     "data": {
      "image/png": "[encoded data removed]",
      "text/plain": [
       "<matplotlib.figure.Figure at 0x61f0790>"
      ]
     },
     "metadata": {},
     "output_type": "display_data"
    }
   ],
   "source": [
    "importances = np.abs(lr_model.coef_)\n",
    "indices = np.argsort(importances)[:-(d + 1):-1]\n",
    "plt.title(\"Feature importances\")\n",
    "plt.bar(range(d), importances[indices], align = 'center', color = 'r')\n",
    "plt.xticks(range(d), feature_names[indices], rotation = 45)\n",
    "plt.xlim([-1, d])\n",
    "pass"
   ]
  },
  {
   "cell_type": "markdown",
   "metadata": {},
   "source": [
    "Отбираем 6 лучших признаков и формируем новые данные X_train_new, X_test_new."
   ]
  },
  {
   "cell_type": "code",
   "execution_count": 27,
   "metadata": {
    "collapsed": false
   },
   "outputs": [
    {
     "name": "stdout",
     "output_type": "stream",
     "text": [
      "(331, 6) (111, 6)\n"
     ]
    }
   ],
   "source": [
    "from sklearn.feature_selection import SelectKBest\n",
    "from sklearn.feature_selection import f_regression\n",
    "kbest_model = SelectKBest(f_regression, k = 6)\n",
    "kbest_model.fit(X_train, y_train)\n",
    "X_train_new = kbest_model.transform(X_train)\n",
    "X_test_new  = kbest_model.transform(X_test)\n",
    "print (X_train_new.shape, X_test_new.shape)"
   ]
  },
  {
   "cell_type": "markdown",
   "metadata": {},
   "source": [
    "Коэффициенты регресси на новых выборках."
   ]
  },
  {
   "cell_type": "code",
   "execution_count": 32,
   "metadata": {
    "collapsed": false
   },
   "outputs": [
    {
     "name": "stdout",
     "output_type": "stream",
     "text": [
      "0.496230646694\n",
      "0.472228860278\n"
     ]
    }
   ],
   "source": [
    "lr_model = LinearRegression()\n",
    "lr_model.fit(X_train_new, y_train)\n",
    "print(lr_model.score(X_train_new, y_train))\n",
    "print(lr_model.score(X_test_new, y_test))"
   ]
  },
  {
   "cell_type": "markdown",
   "metadata": {},
   "source": [
    "На тестовой выборке ошибка уменьшилась."
   ]
  },
  {
   "cell_type": "code",
   "execution_count": 35,
   "metadata": {
    "collapsed": false
   },
   "outputs": [
    {
     "name": "stdout",
     "output_type": "stream",
     "text": [
      "3061.4393604\n",
      "2895.6357838\n"
     ]
    }
   ],
   "source": [
    "y_train_pred = lr_model.predict(X_train_new)\n",
    "print(np.mean((y_train_pred - y_train)**2))\n",
    "\n",
    "y_test_pred = lr_model.predict(X_test_new)\n",
    "print(np.mean((y_test_pred - y_test)**2))"
   ]
  },
  {
   "cell_type": "markdown",
   "metadata": {},
   "source": [
    "Построим график ошибки при разном количестве признаков."
   ]
  },
  {
   "cell_type": "code",
   "execution_count": 36,
   "metadata": {
    "collapsed": false,
    "deletable": true,
    "editable": true
   },
   "outputs": [],
   "source": [
    "err_train = [np.mean((y_train_mean - y_train)**2)]\n",
    "err_test  = [np.mean((y_train_mean - y_test)**2)]\n",
    "for k in range(1, d + 1):\n",
    "    kbest_model = SelectKBest(f_regression, k = k)\n",
    "    kbest_model.fit(X_train, y_train)\n",
    "    X_train_new = kbest_model.transform(X_train)\n",
    "    X_test_new  = kbest_model.transform(X_test)\n",
    "    \n",
    "    lr_model = LinearRegression()\n",
    "    lr_model.fit(X_train_new, y_train)\n",
    "    \n",
    "    y_train_pred = lr_model.predict(X_train_new)\n",
    "    err_train.append(np.mean((y_train_pred - y_train)**2))\n",
    "    \n",
    "    y_test_pred = lr_model.predict(X_test_new)\n",
    "    err_test.append(np.mean((y_test_pred - y_test)**2))"
   ]
  },
  {
   "cell_type": "markdown",
   "metadata": {},
   "source": [
    "Наилучшее количество признаков и ошибка в этом случае."
   ]
  },
  {
   "cell_type": "code",
   "execution_count": 46,
   "metadata": {
    "collapsed": false,
    "deletable": true,
    "editable": true
   },
   "outputs": [
    {
     "name": "stdout",
     "output_type": "stream",
     "text": [
      "2 2818.95713909\n"
     ]
    }
   ],
   "source": [
    "k_opt = np.argmin(err_test)\n",
    "print (k_opt, err_test[k_opt])"
   ]
  },
  {
   "cell_type": "code",
   "execution_count": 47,
   "metadata": {
    "collapsed": false,
    "deletable": true,
    "editable": true
   },
   "outputs": [
    {
     "data": {
      "image/png": "[encoded data removed]",
      "text/plain": [
       "<matplotlib.figure.Figure at 0x8825570>"
      ]
     },
     "metadata": {},
     "output_type": "display_data"
    }
   ],
   "source": [
    "plt.axhline(err_test[k_opt], color = 'gray')\n",
    "plt.plot(range(d + 1), err_train, 'o-r', label = 'Train error', markeredgecolor = 'r')\n",
    "plt.plot(range(d + 1), err_test,  'o-b', label = 'Test error',  markeredgecolor = 'b')\n",
    "plt.legend(loc = 1)\n",
    "plt.xlim(0, d+1)\n",
    "pass"
   ]
  },
  {
   "cell_type": "markdown",
   "metadata": {},
   "source": [
    "Отбор признаков с помощью метода Recursive feature selection."
   ]
  },
  {
   "cell_type": "code",
   "execution_count": 50,
   "metadata": {
    "collapsed": false,
    "deletable": true,
    "editable": true
   },
   "outputs": [
    {
     "data": {
      "image/png": "[encoded data removed]",
      "text/plain": [
       "<matplotlib.figure.Figure at 0x8966350>"
      ]
     },
     "metadata": {},
     "output_type": "display_data"
    }
   ],
   "source": [
    "from sklearn.feature_selection import RFECV\n",
    "lr_model = LinearRegression()\n",
    "selector = RFECV(lr_model, cv = 5)\n",
    "selector.fit(X, y)\n",
    "plt.plot(np.arange(1, d + 1), selector.grid_scores_, 'mo-', markeredgecolor = 'm')\n",
    "pass"
   ]
  },
  {
   "cell_type": "markdown",
   "metadata": {},
   "source": [
    "# Вторая часть лабораторной работы\n",
    "## Остальная часть на листочке (фотографии в приложении)"
   ]
  },
  {
   "cell_type": "code",
   "execution_count": 15,
   "metadata": {
    "collapsed": false,
    "deletable": true,
    "editable": true
   },
   "outputs": [
    {
     "name": "stdout",
     "output_type": "stream",
     "text": [
      "[[5 1 3]\n",
      " [1 3 1]\n",
      " [3 1 3]]\n",
      "[[16]\n",
      " [ 2]\n",
      " [14]]\n",
      "[[ 1.]\n",
      " [-1.]\n",
      " [ 4.]]\n",
      "[[ 1.5]\n",
      " [-0.5]\n",
      " [ 2.5]]\n"
     ]
    },
    {
     "data": {
      "image/png": "[encoded data removed]",
      "text/plain": [
       "<matplotlib.figure.Figure at 0xf32cf0>"
      ]
     },
     "metadata": {},
     "output_type": "display_data"
    }
   ],
   "source": [
    "X = np.matrix(\"1 1 1; 1 1 1; 1 0 0; 1 0 0; 1 -1 1\")\n",
    "y = np.matrix(\"4 4 0 2 6\")\n",
    "print(X.T*X)\n",
    "print(X.T*y.T)\n",
    "print(np.linalg.solve(X.T*X,X.T*y.T))\n",
    "print(np.linalg.solve(X.T*X + np.identity(3),X.T*y.T))\n",
    "x = np.arange(-2,2,0.1)\n",
    "y = 1-x+4*x*x\n",
    "y2 = 1.5-0.5*x+2.5*x*x\n",
    "plt.plot([1,1,0,0,-1],[4,4,0,2,6],'ro')\n",
    "plt.plot(x,y,'b',label = 'f(x) = 1-x+4*x^2')\n",
    "plt.plot(x,y2,'g',label = 'f(x) = 1.5-0.5x+2.5x^2')\n",
    "plt.legend(loc = 1)\n",
    "plt.axis([-2, 2, -1, 8]);"
   ]
  }
 ],
 "metadata": {
  "kernelspec": {
   "display_name": "Python 3",
   "language": "python",
   "name": "python3"
  },
  "language_info": {
   "codemirror_mode": {
    "name": "ipython",
    "version": 3
   },
   "file_extension": ".py",
   "mimetype": "text/x-python",
   "name": "python",
   "nbconvert_exporter": "python",
   "pygments_lexer": "ipython3",
   "version": "3.5.2"
  }
 },
 "nbformat": 4,
 "nbformat_minor": 2
}
